{
 "cells": [
  {
   "cell_type": "code",
   "execution_count": 65,
   "metadata": {},
   "outputs": [],
   "source": [
    "import numpy as np\n",
    "from matplotlib import pyplot as plt"
   ]
  },
  {
   "cell_type": "markdown",
   "metadata": {},
   "source": [
    "# 1. Метод золотого сечения"
   ]
  },
  {
   "cell_type": "code",
   "execution_count": 72,
   "metadata": {},
   "outputs": [],
   "source": [
    "def golden_section(function, a, b, accuracy):\n",
    "    golden_ratio = (-1 + np.sqrt(5)) / 2\n",
    "    x = b - (b - a) * golden_ratio\n",
    "    y = a + (b - a) * golden_ratio\n",
    "    f_x = function(x)\n",
    "    f_y = function(y)\n",
    "    while (b - a > accuracy):\n",
    "        if (f_x > f_y):\n",
    "            a = x\n",
    "            x = y\n",
    "            f_x = f_y\n",
    "            y = a + (b - a) * golden_ratio\n",
    "            f_y = function(y)\n",
    "        else:\n",
    "            b = y\n",
    "            y = x\n",
    "            f_y = f_x\n",
    "            x = b - (b - a) * golden_ratio\n",
    "            f_x = function(x)\n",
    "    return [a, b]"
   ]
  },
  {
   "cell_type": "code",
   "execution_count": 73,
   "metadata": {},
   "outputs": [
    {
     "name": "stdout",
     "output_type": "stream",
     "text": [
      "Интервальная оценка минимума = [0.9999784539326585, 1.000051800894984]\n"
     ]
    },
    {
     "data": {
      "image/png": "[encoded data removed]",
      "text/plain": [
       "<Figure size 432x288 with 1 Axes>"
      ]
     },
     "metadata": {
      "needs_background": "light"
     },
     "output_type": "display_data"
    }
   ],
   "source": [
    "def test(x):\n",
    "    return np.abs(np.log(x))\n",
    "\n",
    "a = 0.3\n",
    "b = 5\n",
    "accuracy = 0.0001\n",
    "\n",
    "res = golden_section(test, a, b, accuracy)\n",
    "print('Интервальная оценка минимума = ' + str(res))\n",
    "\n",
    "x = np.arange(a, b, 0.001)\n",
    "y = [test(i) for i in x]\n",
    "plt.xlabel(r'$x$')\n",
    "plt.ylabel(r'$f(x)$')\n",
    "plt.title('f(x)')\n",
    "plt.plot(x, y)\n",
    "plt.show()"
   ]
  },
  {
   "cell_type": "markdown",
   "metadata": {},
   "source": [
    "# 2. Метод дихотомия-1"
   ]
  },
  {
   "cell_type": "code",
   "execution_count": 68,
   "metadata": {},
   "outputs": [],
   "source": [
    "def dichotomy_one(function, a, b, accuracy, epsilon):\n",
    "    while (b - a > accuracy):\n",
    "        x = (b + a) / 2 - epsilon\n",
    "        y = (b + a) / 2 + epsilon\n",
    "        if (function(x) > function(y)):\n",
    "            a = x\n",
    "        else:\n",
    "            b = y\n",
    "    return [a, b]"
   ]
  },
  {
   "cell_type": "code",
   "execution_count": 69,
   "metadata": {},
   "outputs": [
    {
     "name": "stdout",
     "output_type": "stream",
     "text": [
      "Интервальная оценка минимума = [0.9999784539326587, 1.0000518008949841]\n"
     ]
    },
    {
     "data": {
      "image/png": "[encoded data removed]",
      "text/plain": [
       "<Figure size 432x288 with 1 Axes>"
      ]
     },
     "metadata": {
      "needs_background": "light"
     },
     "output_type": "display_data"
    }
   ],
   "source": [
    "def test(x):\n",
    "    return np.abs(np.log(x))\n",
    "\n",
    "a = 0.3\n",
    "b = 5\n",
    "accuracy = 0.0001\n",
    "\n",
    "res = golden_section(test, a, b, accuracy)\n",
    "print('Интервальная оценка минимума = ' + str(res))\n",
    "\n",
    "x = np.arange(a, b, 0.001)\n",
    "y = [test(i) for i in x]\n",
    "plt.xlabel(r'$x$')\n",
    "plt.ylabel(r'$f(x)$')\n",
    "plt.title('f(x)')\n",
    "plt.plot(x, y)\n",
    "plt.show()"
   ]
  },
  {
   "cell_type": "markdown",
   "metadata": {},
   "source": [
    "# 3. Метод деления на три"
   ]
  },
  {
   "cell_type": "code",
   "execution_count": null,
   "metadata": {},
   "outputs": [],
   "source": [
    "def division_into_three(function, a, b, l, epsilon):\n",
    "    while (b - a > accuracy):\n",
    "        x = b - (b - a) * golden_ratio\n",
    "        y = a + (b - a) * golden_ratio\n",
    "        if (function(x) > function(y)):\n",
    "            a = x\n",
    "            x = y\n",
    "            y = a + (b - a) * golden_ratio\n",
    "        else:\n",
    "            b = y\n",
    "            y = x\n",
    "            x = b - (b - a) * golden_ratio\n",
    "    return [a, b]"
   ]
  }
 ],
 "metadata": {
  "kernelspec": {
   "display_name": "Python 3",
   "language": "python",
   "name": "python3"
  },
  "language_info": {
   "codemirror_mode": {
    "name": "ipython",
    "version": 3
   },
   "file_extension": ".py",
   "mimetype": "text/x-python",
   "name": "python",
   "nbconvert_exporter": "python",
   "pygments_lexer": "ipython3",
   "version": "3.7.1"
  }
 },
 "nbformat": 4,
 "nbformat_minor": 2
}
